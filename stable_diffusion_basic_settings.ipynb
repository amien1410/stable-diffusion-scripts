{
  "nbformat": 4,
  "nbformat_minor": 0,
  "metadata": {
    "colab": {
      "private_outputs": true,
      "provenance": [],
      "gpuType": "T4",
      "include_colab_link": true
    },
    "kernelspec": {
      "name": "python3",
      "display_name": "Python 3"
    },
    "language_info": {
      "name": "python"
    },
    "gpuClass": "standard",
    "accelerator": "GPU"
  },
  "cells": [
    {
      "cell_type": "markdown",
      "metadata": {
        "id": "view-in-github",
        "colab_type": "text"
      },
      "source": [
        "<a href=\"https://colab.research.google.com/github/amien1410/stable-diffusion-scripts/blob/main/stable_diffusion_basic_settings.ipynb\" target=\"_parent\"><img src=\"https://colab.research.google.com/assets/colab-badge.svg\" alt=\"Open In Colab\"/></a>"
      ]
    },
    {
      "cell_type": "markdown",
      "source": [
        "# Stable Diffusion - Basic Settings"
      ],
      "metadata": {
        "id": "X-PbYV1ZQ2xZ"
      }
    },
    {
      "cell_type": "code",
      "source": [
        "#@title Installing dependencies { display-mode: \"form\" }\n",
        "!pip -q install torch diffusers transformers accelerate scipy safetensors xformers mediapy ipywidgets==7.7.1"
      ],
      "metadata": {
        "id": "vCR176NNfn0o"
      },
      "execution_count": null,
      "outputs": []
    },
    {
      "cell_type": "code",
      "source": [
        "#@title Importing Model, Sampler and Checker { form-width: \"20%\", display-mode: \"form\" }\n",
        "\n",
        "from diffusers import StableDiffusionPipeline, EulerAncestralDiscreteScheduler, DDIMScheduler, EulerDiscreteScheduler, UniPCMultistepScheduler, PNDMScheduler, DPMSolverMultistepScheduler\n",
        "from diffusers.models import AutoencoderKL\n",
        "from diffusers.utils import make_image_grid\n",
        "import torch"
      ],
      "metadata": {
        "id": "CV_UTS40oD1k"
      },
      "execution_count": null,
      "outputs": []
    },
    {
      "cell_type": "code",
      "source": [
        "#@title Generating Images { form-width: \"20%\", display-mode: \"form\" }\n",
        "text2img_pipe = StableDiffusionPipeline.from_pretrained(\n",
        "    \"runwayml/stable-diffusion-v1-5\"\n",
        "    , torch_dtype = torch.float16\n",
        ").to(\"cuda:0\")\n",
        "\n",
        "# generate an image\n",
        "prompt = \"high resolution, a photograph of an astronaut riding a horse\"\n",
        "image = text2img_pipe(\n",
        "    prompt = prompt\n",
        ").images[0]\n",
        "image"
      ],
      "metadata": {
        "id": "atmx0PNQ78Wa"
      },
      "execution_count": null,
      "outputs": []
    },
    {
      "cell_type": "code",
      "source": [
        "generator = torch.Generator(\"cuda:0\").manual_seed(1234)\n",
        "prompt = \"high resolution, a photograph of an astronaut riding a horse\"\n",
        "image = text2img_pipe(\n",
        "    prompt = prompt\n",
        "    , generator = generator\n",
        ").images[0]\n",
        "image"
      ],
      "metadata": {
        "id": "AoQD7hsApoMx"
      },
      "execution_count": null,
      "outputs": []
    },
    {
      "cell_type": "code",
      "source": [
        "# Check out the current schduler\n",
        "text2img_pipe.scheduler"
      ],
      "metadata": {
        "id": "04aL48-Up4sH"
      },
      "execution_count": null,
      "outputs": []
    },
    {
      "cell_type": "code",
      "source": [
        "# Use EulerDiscreteScheduler\n",
        "text2img_pipe.scheduler = EulerDiscreteScheduler.from_config(text2img_pipe.scheduler.config)\n",
        "generator = torch.Generator(\"cuda:0\").manual_seed(1234)\n",
        "prompt = \"high resolution, a photograph of an astronaut riding a horse\"\n",
        "image = text2img_pipe(\n",
        "    prompt = prompt\n",
        "    , generator = generator\n",
        ").images[0]\n",
        "image"
      ],
      "metadata": {
        "id": "VuHjv_R4qJEX"
      },
      "execution_count": null,
      "outputs": []
    },
    {
      "cell_type": "code",
      "source": [
        "# Euler scheduler with 20 steps\n",
        "prompt = \"high resolution, a photograph of an astronaut riding a horse\"\n",
        "image = text2img_pipe(\n",
        "    prompt = prompt\n",
        "    , generator = generator\n",
        "    , num_inference_steps = 20\n",
        ").images[0]\n",
        "image"
      ],
      "metadata": {
        "id": "uX0OEcw4qh4r"
      },
      "execution_count": null,
      "outputs": []
    },
    {
      "cell_type": "code",
      "source": [
        "# PNDMScheduler with 20 steps\n",
        "text2img_pipe.scheduler = PNDMScheduler.from_config(text2img_pipe.scheduler.config)\n",
        "generator = torch.Generator(\"cuda:0\").manual_seed(1234)\n",
        "prompt = \"high resolution, a photograph of an astronaut riding a horse\"\n",
        "image = text2img_pipe(\n",
        "    prompt = prompt\n",
        "    , generator = generator\n",
        "    , num_inference_steps = 20\n",
        ").images[0]\n",
        "image"
      ],
      "metadata": {
        "id": "64vp_Ck2quuh"
      },
      "execution_count": null,
      "outputs": []
    },
    {
      "cell_type": "code",
      "source": [
        "text2img_pipe.scheduler = DPMSolverMultistepScheduler.from_config(text2img_pipe.scheduler.config)\n",
        "prompt = \"high resolution, a photograph of an astronaut riding a horse\"\n",
        "image = text2img_pipe(\n",
        "    prompt = prompt\n",
        "    , generator = generator\n",
        ").images[0]\n",
        "image"
      ],
      "metadata": {
        "id": "R7Zgo3LkrX9u"
      },
      "execution_count": null,
      "outputs": []
    },
    {
      "cell_type": "code",
      "source": [
        "# Use deliberate-v2\n",
        "text2img_pipe.scheduler = DPMSolverMultistepScheduler.from_config(text2img_pipe.scheduler.config)\n",
        "text2img_pipe = StableDiffusionPipeline.from_pretrained(\n",
        "    \"stablediffusionapi/deliberate-v2\"\n",
        "    , torch_dtype = torch.float16\n",
        ").to(\"cuda:0\")\n",
        "\n",
        "prompt = \"high resolution, a photograph of an astronaut riding a horse\"\n",
        "image = text2img_pipe(\n",
        "    prompt = prompt\n",
        ").images[0]\n",
        "image"
      ],
      "metadata": {
        "id": "h-ZRo9MSriVP"
      },
      "execution_count": null,
      "outputs": []
    },
    {
      "cell_type": "code",
      "source": [
        "# Generate image with deterministic generation\n",
        "generator = torch.Generator(\"cuda:0\").manual_seed(1)\n",
        "prompt = \"high resolution, a photograph of an astronaut riding a horse\"\n",
        "image = text2img_pipe(\n",
        "    prompt = prompt\n",
        "    , generator = generator\n",
        ").images[0]\n",
        "image"
      ],
      "metadata": {
        "id": "IoqxnDZhr86W"
      },
      "execution_count": null,
      "outputs": []
    },
    {
      "cell_type": "code",
      "source": [
        "# Use random generator, you will get different images every time run this cell\n",
        "import random\n",
        "seed = random.randint(1,999999)\n",
        "generator = torch.Generator(\"cuda:0\").manual_seed(seed)\n",
        "prompt = \"high resolution, a photograph of an astronaut riding a horse\"\n",
        "image = text2img_pipe(\n",
        "    prompt = prompt\n",
        "    , generator = generator\n",
        ").images[0]\n",
        "image"
      ],
      "metadata": {
        "id": "ZI6rvK_8sFx_"
      },
      "execution_count": null,
      "outputs": []
    },
    {
      "cell_type": "code",
      "source": [
        "#@title Specify inference steps\n",
        "# Generate image using assigned steps\n",
        "prompt = \"high resolution, a photograph of an astronaut riding a horse\"\n",
        "image = text2img_pipe(\n",
        "    prompt = prompt\n",
        "    , num_inference_steps = 30\n",
        ").images[0]\n",
        "image"
      ],
      "metadata": {
        "id": "a-QA81N-sPHm"
      },
      "execution_count": null,
      "outputs": []
    },
    {
      "cell_type": "code",
      "source": [
        "#@title Guidance Scale\n",
        "generator = torch.Generator(\"cuda:0\").manual_seed(123)\n",
        "\n",
        "prompt = \"high resolution, a photograph of an astronaut riding a horse on mars\"\n",
        "\n",
        "image_3_gs = text2img_pipe(\n",
        "    prompt = prompt\n",
        "    , num_inference_steps = 30\n",
        "    , guidance_scale = 3\n",
        "    , generator = generator\n",
        ").images[0]\n",
        "\n",
        "image_7_gs = text2img_pipe(\n",
        "    prompt = prompt\n",
        "    , num_inference_steps = 30\n",
        "    , guidance_scale = 7\n",
        "    , generator = generator\n",
        ").images[0]\n",
        "\n",
        "image_10_gs = text2img_pipe(\n",
        "    prompt = prompt\n",
        "    , num_inference_steps = 30\n",
        "    , guidance_scale = 10\n",
        "    , generator = generator\n",
        ").images[0]\n",
        "\n",
        "images = [image_3_gs,image_7_gs,image_10_gs]\n",
        "make_image_grid(images,rows=1,cols=3)"
      ],
      "metadata": {
        "id": "J-HYFVoisbd5"
      },
      "execution_count": null,
      "outputs": []
    },
    {
      "cell_type": "code",
      "source": [
        "#@title Specify the image size\n",
        "prompt = \"high resolution, a photograph of an astronaut riding a horse\"\n",
        "\n",
        "text2img_pipe.scheduler = EulerDiscreteScheduler.from_config(text2img_pipe.scheduler.config)\n",
        "image = text2img_pipe(\n",
        "    prompt = prompt\n",
        "    , num_inference_steps = 40\n",
        "    , guidance_scale = 7.5\n",
        "    , width = 768\n",
        "    , height = 512\n",
        "    , generator = torch.Generator(\"cuda:0\").manual_seed(2)\n",
        ").images[0]\n",
        "image"
      ],
      "metadata": {
        "id": "p--hUjKLtiPu"
      },
      "execution_count": null,
      "outputs": []
    }
  ]
}